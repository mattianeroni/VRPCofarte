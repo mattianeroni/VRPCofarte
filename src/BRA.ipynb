{
 "cells": [
  {
   "cell_type": "code",
   "execution_count": 1,
   "metadata": {},
   "outputs": [],
   "source": [
    "import util # benchmarks, readfile, build_edges, build_time_windows\n",
    "import algorithm\n",
    "import global_methods\n",
    "\n",
    "import matplotlib.pyplot as plt\n",
    "import numpy as np\n",
    "import statistics\n",
    "import pandas as pd"
   ]
  },
  {
   "cell_type": "code",
   "execution_count": 2,
   "metadata": {},
   "outputs": [],
   "source": [
    "import warnings\n",
    "warnings.filterwarnings('ignore')"
   ]
  },
  {
   "cell_type": "code",
   "execution_count": 3,
   "metadata": {},
   "outputs": [],
   "source": [
    "df = pd.read_csv(\"../benchmarks.csv\", delimiter=\"\\t\")"
   ]
  },
  {
   "cell_type": "code",
   "execution_count": 4,
   "metadata": {},
   "outputs": [
    {
     "name": "stdout",
     "output_type": "stream",
     "text": [
      "A-n32-k5_input_nodes.txt (113.98158536585366, 0.0)\n",
      "A-n38-k5_input_nodes.txt (166.15189189189192, 0.0)\n",
      "A-n45-k7_input_nodes.txt (66.33317034700316, 0.0)\n",
      "A-n55-k9_input_nodes.txt (0.0, 0.0)\n",
      "A-n60-k9_input_nodes.txt (57.453449939686365, 0.0)\n",
      "A-n61-k9_input_nodes.txt (0.0, 0.0)\n",
      "A-n65-k9_input_nodes.txt (97.34342075256556, 0.0)\n",
      "A-n80-k10_input_nodes.txt (44.96257961783439, 0.0)\n",
      "B-n50-k7_input_nodes.txt (0.0, 0.0)\n",
      "B-n52-k7_input_nodes.txt (48.592029702970294, 0.0)\n",
      "B-n57-k9_input_nodes.txt (0.0, 0.0)\n",
      "B-n78-k10_input_nodes.txt (0.0, 0.0)\n",
      "E-n22-k4_input_nodes.txt (75.28, 0.0)\n",
      "E-n30-k3_input_nodes.txt (135.07823529411766, 0.0)\n",
      "E-n33-k4_input_nodes.txt (140.07477017364658, 0.0)\n",
      "E-n51-k5_input_nodes.txt (276.1376447876448, 0.0)\n",
      "E-n76-k10_input_nodes.txt (133.2448680351906, 0.0)\n",
      "E-n76-k14_input_nodes.txt (0.0, 0.0)\n",
      "E-n76-k7_input_nodes.txt (153.09555718475073, 0.0)\n",
      "F-n135-k7_input_nodes.txt (247.47888166894666, 0.0)\n",
      "F-n45-k4_input_nodes.txt (0.0, 0.0)\n",
      "F-n72-k4_input_nodes.txt (58.42835815047022, 0.0)\n",
      "M-n101-k10_input_nodes.txt (94.40204419889503, 0.0)\n",
      "M-n121-k7_input_nodes.txt (146.57945454545455, 0.0)\n",
      "P-n101-k4_input_nodes.txt (403.48648148148146, 0.0)\n",
      "P-n22-k8_input_nodes.txt (0.0, 0.0)\n",
      "P-n40-k5_input_nodes.txt (155.24728155339807, 0.0)\n",
      "P-n50-k10_input_nodes.txt (33.724290220820194, 0.0)\n",
      "P-n55-k15_input_nodes.txt (0.0, 0.0)\n",
      "P-n65-k10_input_nodes.txt (79.53708777686629, 0.0)\n",
      "P-n70-k10_input_nodes.txt (87.54402132520944, 0.0)\n",
      "P-n76-k4_input_nodes.txt (757.9090762463343, 0.0)\n",
      "P-n76-k5_input_nodes.txt (570.2847507331378, 0.0)\n"
     ]
    }
   ],
   "source": [
    "for filename, n_vehicles, max_travel_time in zip(df.file, df.n_vehicles, df[\"max_tt\"]):\n",
    "    nodes = util.readfile(filename, path = \"../data/\")\n",
    "    edges = util.build_edges (nodes, pvariance=.25)\n",
    "\n",
    "    \n",
    "    \n",
    "    alg = algorithm.Deterministic (nodes, edges, n_vehicles, max_travel_time, \n",
    "                         beta=(.8, .9), \n",
    "                         maxiter=3000,\n",
    "                         n_elites=5\n",
    "                        )\n",
    "    alg()\n",
    "    print(filename, alg.dbest)"
   ]
  },
  {
   "cell_type": "code",
   "execution_count": 5,
   "metadata": {},
   "outputs": [],
   "source": [
    "for filename, n_vehicles, max_travel_time in zip(df.file, df.n_vehicles, df[\"max_tt\"]):\n",
    "    util.build_time_windows(\n",
    "                            filename = filename,\n",
    "                            path = '../data/',\n",
    "                            n_vehicles = n_vehicles,\n",
    "                            time_window = 1\n",
    "                            )"
   ]
  },
  {
   "cell_type": "code",
   "execution_count": null,
   "metadata": {},
   "outputs": [],
   "source": []
  }
 ],
 "metadata": {
  "kernelspec": {
   "display_name": "Python 3",
   "language": "python",
   "name": "python3"
  },
  "language_info": {
   "codemirror_mode": {
    "name": "ipython",
    "version": 3
   },
   "file_extension": ".py",
   "mimetype": "text/x-python",
   "name": "python",
   "nbconvert_exporter": "python",
   "pygments_lexer": "ipython3",
   "version": "3.8.3"
  }
 },
 "nbformat": 4,
 "nbformat_minor": 4
}
